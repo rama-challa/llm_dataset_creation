{
 "cells": [
  {
   "cell_type": "code",
   "execution_count": 1,
   "id": "eec558e3",
   "metadata": {},
   "outputs": [],
   "source": [
    "import pandas as pd"
   ]
  },
  {
   "cell_type": "code",
   "execution_count": 2,
   "id": "9a2d2946",
   "metadata": {},
   "outputs": [
    {
     "data": {
      "text/html": [
       "<div>\n",
       "<style scoped>\n",
       "    .dataframe tbody tr th:only-of-type {\n",
       "        vertical-align: middle;\n",
       "    }\n",
       "\n",
       "    .dataframe tbody tr th {\n",
       "        vertical-align: top;\n",
       "    }\n",
       "\n",
       "    .dataframe thead th {\n",
       "        text-align: right;\n",
       "    }\n",
       "</style>\n",
       "<table border=\"1\" class=\"dataframe\">\n",
       "  <thead>\n",
       "    <tr style=\"text-align: right;\">\n",
       "      <th></th>\n",
       "      <th>instruction</th>\n",
       "      <th>metric</th>\n",
       "      <th>hierarchy</th>\n",
       "    </tr>\n",
       "  </thead>\n",
       "  <tbody>\n",
       "    <tr>\n",
       "      <th>0</th>\n",
       "      <td>Given the question, pick the Pivot Category fr...</td>\n",
       "      <td>Applied to Leased Ratio</td>\n",
       "      <td>Multifamily Level</td>\n",
       "    </tr>\n",
       "    <tr>\n",
       "      <th>1</th>\n",
       "      <td>Given the question, pick the Pivot Category fr...</td>\n",
       "      <td>Applied to Leased Ratio</td>\n",
       "      <td>PMC Level</td>\n",
       "    </tr>\n",
       "    <tr>\n",
       "      <th>2</th>\n",
       "      <td>Given the question, pick the Pivot Category fr...</td>\n",
       "      <td>Toured to Applied Ratio</td>\n",
       "      <td>Multifamily Level</td>\n",
       "    </tr>\n",
       "    <tr>\n",
       "      <th>3</th>\n",
       "      <td>Given the question, pick the Pivot Category fr...</td>\n",
       "      <td>Toured to Applied Ratio</td>\n",
       "      <td>PMC Level</td>\n",
       "    </tr>\n",
       "    <tr>\n",
       "      <th>4</th>\n",
       "      <td>Given the question, pick the Pivot Category fr...</td>\n",
       "      <td>Lead to Toured Ratio</td>\n",
       "      <td>Multifamily Level</td>\n",
       "    </tr>\n",
       "  </tbody>\n",
       "</table>\n",
       "</div>"
      ],
      "text/plain": [
       "                                         instruction                   metric  \\\n",
       "0  Given the question, pick the Pivot Category fr...  Applied to Leased Ratio   \n",
       "1  Given the question, pick the Pivot Category fr...  Applied to Leased Ratio   \n",
       "2  Given the question, pick the Pivot Category fr...  Toured to Applied Ratio   \n",
       "3  Given the question, pick the Pivot Category fr...  Toured to Applied Ratio   \n",
       "4  Given the question, pick the Pivot Category fr...     Lead to Toured Ratio   \n",
       "\n",
       "           hierarchy  \n",
       "0  Multifamily Level  \n",
       "1          PMC Level  \n",
       "2  Multifamily Level  \n",
       "3          PMC Level  \n",
       "4  Multifamily Level  "
      ]
     },
     "execution_count": 2,
     "metadata": {},
     "output_type": "execute_result"
    }
   ],
   "source": [
    "dataset_raw = pd.read_csv('dataset_raw_pivot.csv')\n",
    "dataset_raw.head(5)"
   ]
  },
  {
   "cell_type": "code",
   "execution_count": 3,
   "id": "9d7460e3",
   "metadata": {},
   "outputs": [
    {
     "data": {
      "text/plain": [
       "(18, 3)"
      ]
     },
     "execution_count": 3,
     "metadata": {},
     "output_type": "execute_result"
    }
   ],
   "source": [
    "dataset_raw.shape"
   ]
  },
  {
   "cell_type": "code",
   "execution_count": 4,
   "id": "7a967892",
   "metadata": {},
   "outputs": [],
   "source": [
    "dataset = dataset_raw.copy(deep=True)"
   ]
  },
  {
   "cell_type": "code",
   "execution_count": 5,
   "id": "063638c1",
   "metadata": {},
   "outputs": [],
   "source": [
    "metadata_column_name = [\"Lede + Lede.Example\", \"Lede.Example\", \"Why it matters?\", \"Godeeper + Godeeper.Example\", \"Godeeper.Example\"]"
   ]
  },
  {
   "cell_type": "code",
   "execution_count": 6,
   "id": "672e5d09",
   "metadata": {},
   "outputs": [],
   "source": [
    "def get_aliases(metric):\n",
    "    if metric == \"Applied to Leased Ratio\":\n",
    "        alias = [\"Applied to Leased Ratio\", \"A2L %\", \"A2L Ratio\", \"Applied to Leased %\"] \n",
    "    elif metric == \"Toured to Applied Ratio\":\n",
    "        alias = [\"Toured to Applied Ratio\", \"Closing Ratio\", \"T2A %\", \"Toured to Applied %\", \"T2A Ratio\"]\n",
    "    elif metric == \"Lead to Toured Ratio\":\n",
    "        alias = [\"Lead to Toured Ratio\", \"Conversion Ratio\", \"L2T %\", \"L2T Ratio\", \"Lead to Toured %\", \n",
    "                      \"Contact to Toured %\", \"Contact to Toured Ratio\", \n",
    "                      \"Prospect to Toured Ratio\", \"Prospect to Toured %\"]\n",
    "    elif metric == \"Property Management Company\":\n",
    "        alias = [\"Property Management Company\", \"Org Name\", \"PMC\", \"Organization\", \"Org\", \n",
    "                      \"Property Management Companies\"]\n",
    "    elif metric == \"Property Name\":\n",
    "        alias = [\"Property Name\", \"Community\"]\n",
    "    elif metric == \"Conversion Rate\":\n",
    "        alias = [\"Conversion Rate\", \"Conversion Ratio\"]\n",
    "    elif metric == \"Conversion Velocity\":\n",
    "        alias = [\"Conversion Velocity\", \"Conversion Duration\"]\n",
    "    elif metric == \"Date Range\":\n",
    "        alias = [\"Date Range\"]\n",
    "    elif metric == \"All Dimensions\":\n",
    "        alias = [\"All Dimensions\", \"Other Dimensions\"]\n",
    "    elif metric == \"Metric Types (All Durations)\":\n",
    "        alias = [\"Metric Types (All Durations)\", \"Other Metrics\", \"All Metrics\"]\n",
    "    elif metric == \"Metric Types (All Ratios)\":\n",
    "        alias = [\"Metric Types (All Ratios)\", \"Other Metrics\", \"All Metrics\"]\n",
    "    elif metric == \"Applied to Leased Duration\":\n",
    "        alias = [\"Applied to Leased Duration\", \"A2L Duration\"]\n",
    "    elif metric == \"Toured to Applied Duration\":\n",
    "        alias = [\"Toured to Applied Duration\", \"Closing Duration\", \"T2A Duration\"]\n",
    "    elif metric == \"Lead to Toured Duration\":\n",
    "        alias = [\"Lead to Toured Duration\", \"Conversion Duration\", \"L2T Duration\", \n",
    "                      \"Contact to Toured Duration\", \"Prospect to Toured Duration\"]\n",
    "    return alias"
   ]
  },
  {
   "cell_type": "code",
   "execution_count": 7,
   "id": "af3b5d2b",
   "metadata": {},
   "outputs": [],
   "source": [
    "def get_questions(metadata_column_name, hierarchy, alias):\n",
    "    if metadata_column_name ==\"Lede + Lede.Example\":\n",
    "        if hierarchy == \"Property Level\":\n",
    "            question = [\"How do you define \"+alias+\" ?\", \"What does \"+alias+\" represent?\", \n",
    "                                \"Describe what \"+alias+\" is\", \"State the meaning of \"+alias, \n",
    "                                \"What is \"+alias]\n",
    "        elif hierarchy == \"PMC Level\":\n",
    "            question = [\"How do you define the benchmark for \"+alias+\" ?\", \"What does the benchmark for \"+alias+\" represent for my organization?\", \n",
    "                                \"Describe what the benchmark for \"+alias+\" is\", \"State the meaning of the benchmark for \"+alias+\" for my PMC\", \n",
    "                                \"What is the benchmark for \"+alias]\n",
    "        elif hierarchy == \"Multifamily Level\":\n",
    "            question = [\"How do you define the benchmark for \"+alias+\" in this industry?\", \"What does the benchmark for \"+alias+\" represent in multifamily?\", \n",
    "                                \"Describe what the benchmark for \"+alias+\" in this industry is\", \"State the meaning of the benchmark for \"+alias+\" in the multifamily industry\", \n",
    "                                \"What is the benchmark for \"+alias+\" in multifamily industry?\"]\n",
    "    elif metadata_column_name ==\"Lede.Example\":\n",
    "        if hierarchy == \"Property Level\":\n",
    "            question = [\"Provide an example of \"+alias, \"How can \"+alias+\" be exemplified?\",\n",
    "                                \"Illustrate \"+alias, \"What is a case in point for \"+alias+\"?\",\n",
    "                                \"How can you demonstrate \"+alias+\"?\"]\n",
    "        elif hierarchy == \"PMC Level\":\n",
    "            question = [\"Provide an example of the benchmark for \"+alias, \"How can the benchmark for \"+alias+\" be exemplified?\",\n",
    "                                \"Illustrate the benchmark for \"+alias, \"What is a case in point for the benchmark for \"+alias+\"?\",\n",
    "                                \"How can you demonstrate the benchmark for \"+alias+\"?\"]\n",
    "        elif hierarchy == \"Multifamily Level\":\n",
    "            question = [\"Provide an example of the benchmark for \"+alias+\" in this industry\", \"How can the benchmark for \"+alias+\" be exemplified in multifamily?\",\n",
    "                                \"Illustrate the benchmark for \"+alias+\" in multifamily\", \"What is a case in point for the benchmark for \"+alias+\"in our industry?\",\n",
    "                                \"How can you demonstrate the benchmark for \"+alias+\" in the multifamily industry?\"]\n",
    "    elif metadata_column_name ==\"Why it matters?\":\n",
    "        if hierarchy == \"Property Level\":\n",
    "            question = [\"Why is \"+alias+\" important?\", \"How is \"+alias+\" applied from a marketing standpoint?\",\n",
    "                                \"What is business use case of \"+alias+\"?\", \"What is the value of \"+alias+\"?\",\n",
    "                                \"Why do we need to measure \"+alias+\"?\"]\n",
    "        elif hierarchy == \"PMC Level\":\n",
    "            question = [\"Why is the benchmark for \"+alias+\" important?\", \"How is the benchmark for \"+alias+\" applied in my PMC from a marketing standpoint?\",\n",
    "                                \"What is business use case of the benchmark for \"+alias+\"?\", \"What is the value of the benchmark for \"+alias+\" in my organization?\",\n",
    "                                \"Why do we need to measure the benchmark for \"+alias+\"?\"]\n",
    "        elif hierarchy == \"Multifamily Level\":\n",
    "            question = [\"Why is the benchmark for \"+alias+\" important in multifamily?\", \"How is the benchmark for \"+alias+\" applied in this industry from a marketing standpoint?\",\n",
    "                                \"What is business use case of the benchmark for \"+alias+\" in the multifamily industry?\", \"What is the value of the benchmark for \"+alias+\" in multifamily?\",\n",
    "                                \"Why do we need to measure the benchmark for \"+alias+\" in this industry?\"]\n",
    "    elif metadata_column_name ==\"Godeeper + Godeeper.Example\":\n",
    "        if hierarchy == \"Property Level\":\n",
    "            question = [\"Elaborate on \"+alias, \"Give me a detailed explanation of \"+alias+\".\",\n",
    "                                \"How do I calculate \"+alias+\"?\", \"Go deeper about \"+alias, \n",
    "                                \"Provide a thorough description and computation of \"+alias]\n",
    "        elif hierarchy == \"PMC Level\":\n",
    "            question = [\"Elaborate on the benchmark for \"+alias, \"Give me a detailed explanation of the benchmark for \"+alias+\".\",\n",
    "                                \"How do I calculate the benchmark for \"+alias+\" in my PMC?\", \"Go deeper about the benchmark for \"+alias+\" in my organization\", \n",
    "                                \"Provide a thorough description and computation of the benchmark for \"+alias]\n",
    "        elif hierarchy == \"Multifamily Level\":\n",
    "            question = [\"Elaborate on the benchmark for \"+alias+\" in this industry\", \"Give me a detailed explanation of the benchmark for \"+alias+\"in multifamily.\",\n",
    "                                \"How do I calculate the benchmark for \"+alias+\" in this industry?\", \"Go deeper about the benchmark for \"+alias+\" in multifamily industry\", \n",
    "                                \"Provide a thorough description and computation of the benchmark for \"+alias+\"in multifamily\"]\n",
    "    elif metadata_column_name ==\"Godeeper.Example\":\n",
    "        if hierarchy == \"Property Level\":\n",
    "            question = [\"Show me a thorough demonstration of \"+alias, \"Give me a detailed example of \"+alias,\n",
    "                                \"What is a clear and detailed illustration of \"+alias+\"?\", \n",
    "                                \"How can you illustrate \"+alias+\" with a concrete case?\", \n",
    "                                \"Give me a comprehensive example of how \"+alias+\" is derived\"]\n",
    "        elif hierarchy == \"PMC Level\":\n",
    "            question = [\"Show me a thorough demonstration of the benchmark for \"+alias, \"Give me a detailed example of the benchmark for \"+alias,\n",
    "                                \"What is a clear and detailed illustration of the benchmark for \"+alias+\" in case of my PMC?\", \n",
    "                                \"How can you illustrate the benchmark for \"+alias+\" in my organization with a concrete case?\", \n",
    "                                \"Give me a comprehensive example of how the benchmark for \"+alias+\" is derived\"]\n",
    "        elif hierarchy == \"Multifamily Level\":\n",
    "            question = [\"Show me a thorough demonstration of the benchmark for \"+alias+\" in multifamily\", \"Give me a detailed example of the benchmark for \"+alias+\" in the multifamily industry\",\n",
    "                                \"What is a clear and detailed illustration of the benchmark for \"+alias+\" in this industry?\", \n",
    "                                \"How can you illustrate the benchmark for \"+alias+\" in this industry with a concrete case?\", \n",
    "                                \"Give me a comprehensive example of how the benchmark for \"+alias+\" is derived in the multifamily industry\"]\n",
    "    return question"
   ]
  },
  {
   "cell_type": "code",
   "execution_count": 8,
   "id": "8e4a8df6",
   "metadata": {},
   "outputs": [
    {
     "data": {
      "text/plain": [
       "(90, 4)"
      ]
     },
     "execution_count": 8,
     "metadata": {},
     "output_type": "execute_result"
    }
   ],
   "source": [
    "dataset['metadata_column_name'] = ''\n",
    "dataset['metadata_column_name'] = dataset['metadata_column_name'].apply(lambda x: metadata_column_name)\n",
    "dataset = dataset.explode('metadata_column_name')\n",
    "dataset.shape"
   ]
  },
  {
   "cell_type": "code",
   "execution_count": 9,
   "id": "fc863f71",
   "metadata": {},
   "outputs": [
    {
     "data": {
      "text/plain": [
       "(420, 5)"
      ]
     },
     "execution_count": 9,
     "metadata": {},
     "output_type": "execute_result"
    }
   ],
   "source": [
    "dataset['alias'] = dataset['metric'].apply(lambda x: get_aliases(x))\n",
    "dataset = dataset.explode('alias')\n",
    "dataset.shape"
   ]
  },
  {
   "cell_type": "code",
   "execution_count": 10,
   "id": "d3d632a5",
   "metadata": {},
   "outputs": [
    {
     "data": {
      "text/plain": [
       "(2100, 7)"
      ]
     },
     "execution_count": 10,
     "metadata": {},
     "output_type": "execute_result"
    }
   ],
   "source": [
    "dataset['question'] = dataset.apply(lambda x: get_questions(x['metadata_column_name'], x['hierarchy'], x['alias']), axis=1)\n",
    "dataset = dataset.explode('question')\n",
    "dataset['data_variant']= \"Clean\"\n",
    "dataset.shape"
   ]
  },
  {
   "cell_type": "code",
   "execution_count": 11,
   "id": "9d2483f5",
   "metadata": {},
   "outputs": [],
   "source": [
    "name_options = {\"Pivot Options\": {\"name\": [\"conversionRatio\", \"conversionVelocity\", \"classicAttribution\"], \n",
    "                                  \"selectionCriteria\": [\"when ratio between values is dicussed\", \n",
    "                                                        \"when duration between values is dicussed\", \n",
    "                                                        \"when it's neither conversionRatio nor classicAttribution\"]}}"
   ]
  },
  {
   "cell_type": "code",
   "execution_count": 12,
   "id": "34fe8676",
   "metadata": {},
   "outputs": [],
   "source": [
    "dataset['input'] = dataset['question'].apply(lambda x: {**{\"question\": x}, **name_options})"
   ]
  },
  {
   "cell_type": "code",
   "execution_count": null,
   "id": "848f9356",
   "metadata": {},
   "outputs": [],
   "source": []
  },
  {
   "cell_type": "code",
   "execution_count": 13,
   "id": "376f53fd",
   "metadata": {},
   "outputs": [
    {
     "name": "stdout",
     "output_type": "stream",
     "text": [
      "{'question': 'How do you define the benchmark for Applied to Leased Ratio in this industry?', 'pivotCategory': ['conversionRatio', 'conversionVelocity']}\n"
     ]
    }
   ],
   "source": [
    "print(dataset['input'].values[0])"
   ]
  },
  {
   "cell_type": "code",
   "execution_count": null,
   "id": "9b9facff",
   "metadata": {},
   "outputs": [],
   "source": [
    "dataset[['metric', 'hierarchy']].drop_duplicates().sort_values([\"metric\",\"hierarchy\"])"
   ]
  },
  {
   "cell_type": "code",
   "execution_count": null,
   "id": "b94b2d03",
   "metadata": {},
   "outputs": [],
   "source": [
    "def get_pivotCategoryRequested(metric):\n",
    "    if metric in ['Applied to Leased Duration', 'Lead to Toured Duration', 'Toured to Applied Duration']:\n",
    "        return \"conversionVelocity\"\n",
    "    elif metric in ['Applied to Leased Ratio', 'Lead to Toured Ratio', 'Toured to Applied Ratio']:\n",
    "        return \"conversionRatio\"\n",
    "    # elif metric in ['Created Leads', 'Tours Scheduled', '1st Toured', 'Applied', 'Leased']:\n",
    "    #    return \"classicAttribution\""
   ]
  },
  {
   "cell_type": "code",
   "execution_count": null,
   "id": "444a6834",
   "metadata": {},
   "outputs": [],
   "source": [
    "dataset['pivotCategoryRequested'] = dataset.apply(lambda x: get_pivotCategoryRequested(x['metric']), axis=1)\n",
    "dataset"
   ]
  },
  {
   "cell_type": "code",
   "execution_count": null,
   "id": "190c08b5",
   "metadata": {},
   "outputs": [],
   "source": [
    "def get_output(question, pivotCategoryRequested):\n",
    "    return {\"question\": question, \"pivotCategoryRequested\": pivotCategoryRequested}"
   ]
  },
  {
   "cell_type": "code",
   "execution_count": null,
   "id": "796affc4",
   "metadata": {},
   "outputs": [],
   "source": [
    "dataset['output'] = dataset.apply(lambda x: get_output(x['question'], x['pivotCategoryRequested']), axis=1)\n",
    "dataset"
   ]
  },
  {
   "cell_type": "code",
   "execution_count": null,
   "id": "8a92e21b",
   "metadata": {},
   "outputs": [],
   "source": [
    "dataset = dataset[['instruction', 'input', 'output']]"
   ]
  },
  {
   "cell_type": "code",
   "execution_count": null,
   "id": "d682a99d",
   "metadata": {},
   "outputs": [],
   "source": [
    "dataset.to_csv('dataset_pivot.csv', index=False)"
   ]
  },
  {
   "cell_type": "code",
   "execution_count": null,
   "id": "13746667",
   "metadata": {},
   "outputs": [],
   "source": []
  }
 ],
 "metadata": {
  "kernelspec": {
   "display_name": "Python 3 (ipykernel)",
   "language": "python",
   "name": "python3"
  },
  "language_info": {
   "codemirror_mode": {
    "name": "ipython",
    "version": 3
   },
   "file_extension": ".py",
   "mimetype": "text/x-python",
   "name": "python",
   "nbconvert_exporter": "python",
   "pygments_lexer": "ipython3",
   "version": "3.9.7"
  }
 },
 "nbformat": 4,
 "nbformat_minor": 5
}
